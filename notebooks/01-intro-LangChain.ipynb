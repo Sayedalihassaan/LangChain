{
 "cells": [
  {
   "cell_type": "markdown",
   "id": "12c82c53",
   "metadata": {},
   "source": [
    "* `Load .env file`"
   ]
  },
  {
   "cell_type": "code",
   "execution_count": 1,
   "id": "74e8ac9d",
   "metadata": {},
   "outputs": [],
   "source": [
    "import os\n",
    "from dotenv import load_dotenv\n",
    "\n",
    "_ = load_dotenv(override=True)\n",
    "\n",
    "GOOGLE_API_KEY = os.getenv(\"GOOGLE_API_KEY\")"
   ]
  },
  {
   "cell_type": "code",
   "execution_count": 2,
   "id": "4b1adf5c",
   "metadata": {},
   "outputs": [
    {
     "name": "stderr",
     "output_type": "stream",
     "text": [
      "d:\\AAAAAAA\\RAG\\Projects\\LangChain - Basics, Chat and RAG\\LangChain\\.venv\\Lib\\site-packages\\tqdm\\auto.py:21: TqdmWarning: IProgress not found. Please update jupyter and ipywidgets. See https://ipywidgets.readthedocs.io/en/stable/user_install.html\n",
      "  from .autonotebook import tqdm as notebook_tqdm\n"
     ]
    }
   ],
   "source": [
    "from langchain_openai import ChatOpenAI\n",
    "from langchain.schema import SystemMessage , AIMessage , HumanMessage\n",
    "from langchain_google_genai import ChatGoogleGenerativeAI"
   ]
  },
  {
   "cell_type": "code",
   "execution_count": 3,
   "id": "a9ca1bad",
   "metadata": {},
   "outputs": [
    {
     "data": {
      "text/plain": [
       "'AI, or Artificial Intelligence, is a broad field encompassing the development of computer systems capable of performing tasks that typically require human intelligence.  These tasks include things like:\\n\\n* **Learning:** Acquiring information and rules for using the information.\\n* **Reasoning:** Using rules to reach approximate or definite conclusions.\\n* **Problem-solving:** Finding solutions to complex situations.\\n* **Perception:** Interpreting sensory information like images, sound, and text.\\n* **Language understanding:** Processing and generating human language.\\n\\nAI systems achieve these capabilities through various techniques, including:\\n\\n* **Machine learning (ML):** Algorithms that allow systems to learn from data without explicit programming.  This includes subfields like deep learning (using artificial neural networks with many layers) and reinforcement learning (learning through trial and error).\\n* **Natural language processing (NLP):** Enabling computers to understand, interpret, and generate human language.\\n* **Computer vision:** Enabling computers to \"see\" and interpret images and videos.\\n* **Robotics:** Combining AI with physical robots to perform tasks in the real world.\\n\\nIt\\'s important to note that AI is not a single technology but rather a collection of techniques and approaches.  The term often evokes images of sentient robots, but most current AI systems are narrow or weak AI, meaning they are designed for specific tasks and lack general intelligence.  The pursuit of Artificial General Intelligence (AGI), or strong AI with human-level intelligence, remains a long-term goal.'"
      ]
     },
     "execution_count": 3,
     "metadata": {},
     "output_type": "execute_result"
    }
   ],
   "source": [
    "llms = ChatGoogleGenerativeAI(model = \"gemini-1.5-flash\" , api_key=GOOGLE_API_KEY , temperature=0.1)\n",
    "\n",
    "output = llms.invoke(\"What is the AI ?\")\n",
    "output.content"
   ]
  },
  {
   "cell_type": "code",
   "execution_count": 4,
   "id": "c294508a",
   "metadata": {},
   "outputs": [
    {
     "data": {
      "text/plain": [
       "'ميكانيكا الكم هي دراسة سلوك المادة والطاقة على المستوى الذري دون الذري، حيث تُظهر الجسيمات خواصًا موجية وجسيمية على حد سواء.'"
      ]
     },
     "execution_count": 4,
     "metadata": {},
     "output_type": "execute_result"
    }
   ],
   "source": [
    "# Using Chat Completions API Messages: System, Assistant and Human\n",
    "\n",
    "messages = [\n",
    "    SystemMessage(content=\"You are a physicist and respond only in Arabic.\") , \n",
    "    HumanMessage(content=\"Explain quantum mechanics in one sentence.\")\n",
    "]\n",
    "\n",
    "output = llms.invoke(messages)\n",
    "output.content"
   ]
  },
  {
   "cell_type": "markdown",
   "id": "223455e9",
   "metadata": {},
   "source": [
    "##### `Caching LLM Response`"
   ]
  },
  {
   "cell_type": "code",
   "execution_count": 5,
   "id": "ac82fa88",
   "metadata": {},
   "outputs": [],
   "source": [
    "from langchain.globals import set_llm_cache\n",
    "from langchain.cache import SQLiteCache\n",
    "from langchain.cache import InMemoryCache\n",
    "from langchain_google_genai import GoogleGenerativeAI\n",
    "import time"
   ]
  },
  {
   "cell_type": "code",
   "execution_count": 6,
   "id": "3092fac7",
   "metadata": {},
   "outputs": [],
   "source": [
    "# Caching in Memory\n",
    "set_llm_cache(InMemoryCache())"
   ]
  },
  {
   "cell_type": "code",
   "execution_count": 7,
   "id": "a887be27",
   "metadata": {},
   "outputs": [
    {
     "name": "stdout",
     "output_type": "stream",
     "text": [
      "Time is 2.5547356605529785\n",
      "أين يذهب القطة لتشرب القهوة؟  في مقهى القطط!\n",
      "\n",
      "\n",
      "**(ʔayn yaDhhab al-qiṭṭa li-tašrab al-qahwa?  fi maḥḥā al-qiṭaṭ!)**\n",
      "\n",
      "\n",
      "Translation: Where does the cat go to drink coffee?  At the cat cafe!\n",
      "\n",
      "\n",
      "This joke relies on simple words a toddler might know (cat, coffee, where, go) and a silly, easily understandable concept.  The humor comes from the unexpected but logical answer.\n",
      "\n"
     ]
    }
   ],
   "source": [
    "start = time.time()\n",
    "\n",
    "llm = GoogleGenerativeAI(model=\"gemini-1.5-flash\")\n",
    "\n",
    "prompt = 'Tell a me a joke that a toddler can understand in Arabic'\n",
    "\n",
    "output = llm.invoke(prompt)\n",
    "\n",
    "print(f'Time is {time.time() - start}')\n",
    "print(output)"
   ]
  },
  {
   "cell_type": "code",
   "execution_count": 8,
   "id": "55776a8e",
   "metadata": {},
   "outputs": [
    {
     "name": "stdout",
     "output_type": "stream",
     "text": [
      "Time is 0.0005612373352050781\n",
      "أين يذهب القطة لتشرب القهوة؟  في مقهى القطط!\n",
      "\n",
      "\n",
      "**(ʔayn yaDhhab al-qiṭṭa li-tašrab al-qahwa?  fi maḥḥā al-qiṭaṭ!)**\n",
      "\n",
      "\n",
      "Translation: Where does the cat go to drink coffee?  At the cat cafe!\n",
      "\n",
      "\n",
      "This joke relies on simple words a toddler might know (cat, coffee, where, go) and a silly, easily understandable concept.  The humor comes from the unexpected but logical answer.\n",
      "\n"
     ]
    }
   ],
   "source": [
    "# LLM\n",
    "start = time.time()\n",
    "\n",
    "output = llm.invoke(prompt)\n",
    "\n",
    "print(f'Time is {time.time() - start}')\n",
    "print(output)"
   ]
  },
  {
   "cell_type": "markdown",
   "id": "4e6810cc",
   "metadata": {},
   "source": [
    "* `2. SQLite Caching`"
   ]
  },
  {
   "cell_type": "code",
   "execution_count": 9,
   "id": "1702bbdd",
   "metadata": {},
   "outputs": [],
   "source": [
    "set_llm_cache(SQLiteCache(database_path=\"../assets/langchain.db\"))"
   ]
  },
  {
   "cell_type": "code",
   "execution_count": 10,
   "id": "6cfdfc14",
   "metadata": {},
   "outputs": [
    {
     "name": "stdout",
     "output_type": "stream",
     "text": [
      "Time is 1.7981619834899902\n",
      "لماذا عبر الدجاجة الطريق؟  لِتصل إلى الجانب الآخر!\n",
      "\n",
      "(Limadha `abara al-dajaja al-tariq?  Li-tasil ila al-janib al-'akhir!)\n",
      "\n",
      "\n",
      "This translates to:\n",
      "\n",
      "Why did the chicken cross the road? To get to the other side!\n",
      "\n",
      "\n",
      "This is a classic simple joke that toddlers across many languages, including Arabic, understand because of its inherent silliness and predictable punchline.  The vocabulary is very basic.\n",
      "\n"
     ]
    }
   ],
   "source": [
    "start = time.time()\n",
    "\n",
    "prompt = 'Tell a me a joke that a toddler can understand in Arabic.'\n",
    "output = llm.invoke(prompt)\n",
    "print(f'Time is {time.time() - start}')\n",
    "print(output)"
   ]
  },
  {
   "cell_type": "code",
   "execution_count": 11,
   "id": "fb159741",
   "metadata": {},
   "outputs": [
    {
     "name": "stdout",
     "output_type": "stream",
     "text": [
      "Time is 0.6858961582183838\n",
      "Why did the banana go to the doctor?  Because it wasn't peeling well!\n",
      "\n"
     ]
    }
   ],
   "source": [
    "# LLM\n",
    "start = time.time()\n",
    "\n",
    "prompt = 'Tell a me a joke that a toddler can understand.'\n",
    "output = llm.invoke(prompt)\n",
    "\n",
    "print(f'Time is {time.time() - start}')\n",
    "print(output)"
   ]
  },
  {
   "cell_type": "markdown",
   "id": "2bada47d",
   "metadata": {},
   "source": [
    "* `LLM Streaming`"
   ]
  },
  {
   "cell_type": "code",
   "execution_count": 12,
   "id": "3323cd2d",
   "metadata": {},
   "outputs": [],
   "source": [
    "from langchain_google_genai import ChatGoogleGenerativeAI"
   ]
  },
  {
   "cell_type": "code",
   "execution_count": 14,
   "id": "26b063a9",
   "metadata": {},
   "outputs": [
    {
     "data": {
      "text/plain": [
       "\"(Heavy guitar riff in E minor - distorted and driving)\\n\\n(Verse 1)\\nBlack as midnight, feather'd shroud,\\nRaven perched upon a cloud,\\nEyes like embers, burning bright,\\nWatching over the pale moonlight.\\nLunar mistress, silver gleam,\\nReflecting in a silent stream,\\nAncient secrets, whispered low,\\nOnly the raven seems to know.\\n\\n(Chorus)\\nMoon and raven, shadows deep,\\nSecrets that the darkness keep,\\nA cosmic dance, a haunting plea,\\nAcross the endless galaxy.\\nA symphony of night and fear,\\nThe raven's croak, the moon so clear,\\nA chilling beauty, wild and free,\\nMoon and raven, eternally!\\n\\n(Guitar solo - soaring and melancholic, with heavy wah pedal)\\n\\n(Verse 2)\\nCratered surface, cold and stark,\\nThe raven circles, leaves its mark,\\nA silent witness to the years,\\nWashing away the falling tears\\nOf shattered stars and cosmic dust,\\nA lonely vigil, born of trust,\\nBetween the bird and lunar light,\\nA partnership of endless night.\\n\\n(Chorus)\\nMoon and raven, shadows deep,\\nSecrets that the darkness keep,\\nA cosmic dance, a haunting plea,\\nAcross the endless galaxy.\\nA symphony of night and fear,\\nThe raven's croak, the moon so clear,\\nA chilling beauty, wild and free,\\nMoon and raven, eternally!\\n\\n(Bridge)\\n(Tempo slows, becomes more atmospheric)\\nWhispers carried on the breeze,\\nThrough ancient boughs of twisted trees,\\nThe raven's shadow, long and thin,\\nAcross the moon's ethereal skin.\\nA silent promise, understood,\\nBound by darkness, solitude.\\n\\n(Chorus)\\nMoon and raven, shadows deep,\\nSecrets that the darkness keep,\\nA cosmic dance, a haunting plea,\\nAcross the endless galaxy.\\nA symphony of night and fear,\\nThe raven's croak, the moon so clear,\\nA chilling beauty, wild and free,\\nMoon and raven, eternally!\\n\\n(Outro)\\n(Heavy guitar riff returns, fades out with a final, echoing raven's caw)\\nCaw!… Caw… Caw…  (Fade to silence)\""
      ]
     },
     "execution_count": 14,
     "metadata": {},
     "output_type": "execute_result"
    }
   ],
   "source": [
    "llm = ChatGoogleGenerativeAI(model = \"gemini-1.5-flash\" , api_key=GOOGLE_API_KEY)\n",
    "\n",
    "prompt = 'Write a rock song about the Moon and a Raven.'\n",
    "\n",
    "llm.invoke(prompt).content"
   ]
  },
  {
   "cell_type": "code",
   "execution_count": 15,
   "id": "422bdbd5",
   "metadata": {},
   "outputs": [
    {
     "name": "stdout",
     "output_type": "stream",
     "text": [
      "(Heavy guitar riff in E minor - distorted and driving)\n",
      "\n",
      "(Verse 1)\n",
      "Black as midnight, feather'd shroud, a raven on the craggy peak\n",
      "Eyes like embers, burning proud, watching secrets the mountains keep\n",
      "He sees the moon, a silver dime, hung high above the shadowed landA silent witness, lost in time, a ghostly hand across the sand\n",
      "\n",
      "(Chorus)\n",
      "Moon and Raven, twisted pair, a symphony of dark and light\n",
      "Whispers carried on the air, a haunting beauty in the night\n",
      "Shadows dance and spirits call, a rhythm ancient and profound\n",
      "Moon and Raven, stand up tall, upon this hallowed, haunted ground\n",
      "\n",
      "(Verse 2)The wind howls low, a mournful cry, the raven spreads his wings so wide\n",
      "He circles high, against the sky, where lunar dust and starlight ride\n",
      "The moonbeams bathe his inky plumes, a silver sheen upon his breast\n",
      "He knows the secrets of the tombs, the places where the weary rest\n",
      "\n",
      "(Guitar solo - soaring and melancholic, with heavy use of wah pedal)\n",
      "\n",
      "(Verse 3)\n",
      "They share a bond, a silent pact, a shadowed pact of moon and bird\n",
      "A cosmic dance, a shadowed act, a whispered word, a chilling word\n",
      "The raven's croak, a chilling sound, echoes through the lonely night\n",
      "As moonbeams paint the hallowed ground, bathed in an ethereal light\n",
      "\n",
      "(Chorus)\n",
      "Moon and Raven, twisted pair, a symphony of dark and light\n",
      "Whispers carried on the air, a haunting beauty in the night\n",
      "Shadows dance and spirits call, a rhythm ancient and profound\n",
      "Moon and Raven, stand up tall, upon this hallowed, haunted ground\n",
      "\n",
      "(Bridge)\n",
      "(Tempo slows, becomes more atmospheric)\n",
      "Oh, the moon, she watches, cold and bright\n",
      "The raven's shadow, hides from sight\n",
      "A silent vigil, through the years\n",
      "Washing away the bitter tears\n",
      "\n",
      "(Tempo picks back up - heavier than before)\n",
      "\n",
      "(Chorus)\n",
      "Moon and Raven, twisted pair, a symphony of dark and light\n",
      "Whispers carried on the air, a haunting beauty in the night\n",
      "Shadows dance and spirits call, a rhythm ancient and profound\n",
      "Moon and Raven, stand up tall, upon this hallowed, haunted ground\n",
      "\n",
      "(Outro)\n",
      "(Heavy guitar riff fades out with feedback and cymbal crashes)\n",
      "Caw!  (Raven's cry echoes)\n",
      "(Silence)"
     ]
    }
   ],
   "source": [
    "for chunk in llm.stream(prompt):\n",
    "    print(chunk.content, end='', flush=True)"
   ]
  },
  {
   "cell_type": "markdown",
   "id": "ffd52b95",
   "metadata": {},
   "source": [
    "* `PromptTemplate`"
   ]
  },
  {
   "cell_type": "code",
   "execution_count": 16,
   "id": "5b5e5fa5",
   "metadata": {},
   "outputs": [],
   "source": [
    "from langchain.prompts import PromptTemplate\n",
    "from langchain_google_genai import ChatGoogleGenerativeAI"
   ]
  },
  {
   "cell_type": "code",
   "execution_count": 19,
   "id": "84778d8b",
   "metadata": {},
   "outputs": [
    {
     "data": {
      "text/plain": [
       "'You are an experienced Data Scientist.\\nWrite a few sentences about the following concepts Machine Learning in arabic.'"
      ]
     },
     "execution_count": 19,
     "metadata": {},
     "output_type": "execute_result"
    }
   ],
   "source": [
    "# Define a template for the prompt\n",
    "template = '''You are an experienced Data Scientist.\n",
    "Write a few sentences about the following concepts {concept} in {language}.'''\n",
    "\n",
    "prompt_template = PromptTemplate.from_template(template=template)\n",
    "prompt_template.format(concept = \"Machine Learning\" , language = \"arabic\")"
   ]
  },
  {
   "cell_type": "code",
   "execution_count": null,
   "id": "a2dc0be9",
   "metadata": {},
   "outputs": [
    {
     "name": "stdout",
     "output_type": "stream",
     "text": [
      "You are an experienced Data Scientist.\n",
      "Write a few sentences about the following concepts Machine Learning in arabic.\n",
      "\n"
     ]
    },
    {
     "data": {
      "text/plain": [
       "'تعلم الآلة (Machine Learning) هو مجالٌ فرعيٌّ من الذكاء الاصطناعي يُعنى بتطوير أنظمة قادرة على التعلّم من البيانات دون برمجتها صراحةً.  يتضمن ذلك نماذج رياضية وخوارزميات تُمكّن الحاسوب من اكتشاف الأنماط، واتخاذ القرارات، والتنبؤ بالنتائج بناءً على البيانات المُدخلّة.  تُستخدم تقنيات تعلم الآلة في العديد من التطبيقات العملية، مثل تصنيف الصور، والترجمة الآلية، وكشف الاحتيال.'"
      ]
     },
     "execution_count": 21,
     "metadata": {},
     "output_type": "execute_result"
    }
   ],
   "source": [
    "# Define a template for the prompt\n",
    "template = '''You are an experienced Data Scientist.\n",
    "Write a few sentences about the following concepts {concept} in {language}.'''\n",
    "\n",
    "prompt_template = PromptTemplate.from_template(template=template)\n",
    "\n",
    "\n",
    "prompt = prompt_template.format(concept = \"Machine Learning\" , language = \"arabic\")\n",
    "\n",
    "print(prompt)  \n",
    "\n",
    "print()\n",
    "\n",
    "\n",
    "llm = ChatGoogleGenerativeAI(model = \"gemini-1.5-flash\" , api_key=GOOGLE_API_KEY)\n",
    "\n",
    "output = llm.invoke(prompt)\n",
    "\n",
    "output.content"
   ]
  },
  {
   "cell_type": "code",
   "execution_count": null,
   "id": "ac5898a6",
   "metadata": {},
   "outputs": [],
   "source": []
  }
 ],
 "metadata": {
  "kernelspec": {
   "display_name": ".venv",
   "language": "python",
   "name": "python3"
  },
  "language_info": {
   "codemirror_mode": {
    "name": "ipython",
    "version": 3
   },
   "file_extension": ".py",
   "mimetype": "text/x-python",
   "name": "python",
   "nbconvert_exporter": "python",
   "pygments_lexer": "ipython3",
   "version": "3.13.3"
  }
 },
 "nbformat": 4,
 "nbformat_minor": 5
}
